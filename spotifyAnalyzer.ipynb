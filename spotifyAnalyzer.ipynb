{
  "nbformat": 4,
  "nbformat_minor": 0,
  "metadata": {
    "colab": {
      "name": "spotifyAnalyzer.ipynb",
      "provenance": [],
      "authorship_tag": "ABX9TyNVCYVcPhlPPADzCyOnIzjI",
      "include_colab_link": true
    },
    "kernelspec": {
      "name": "python3",
      "display_name": "Python 3"
    },
    "language_info": {
      "name": "python"
    }
  },
  "cells": [
    {
      "cell_type": "markdown",
      "metadata": {
        "id": "view-in-github",
        "colab_type": "text"
      },
      "source": [
        "<a href=\"https://colab.research.google.com/github/raulfruiz/spotify-analysis/blob/main/spotifyAnalyzer.ipynb\" target=\"_parent\"><img src=\"https://colab.research.google.com/assets/colab-badge.svg\" alt=\"Open In Colab\"/></a>"
      ]
    },
    {
      "cell_type": "code",
      "execution_count": null,
      "metadata": {
        "id": "pOppV0dRc0Iv"
      },
      "outputs": [],
      "source": [
        "!pip install spotipy # wrapper that allows to access the Spotify API"
      ]
    },
    {
      "cell_type": "code",
      "source": [
        "import requests\n",
        "CLIENT_ID = '4e83d35eacfd41348ba5a24af18695d5'\n",
        "CLIENT_SECRET = '0d0222e604b546a19d377f594a4c3582'\n",
        "\n",
        "AUTH_URL = 'https://accounts.spotify.com/api/token'"
      ],
      "metadata": {
        "id": "M2wM-DzneLiS"
      },
      "execution_count": 2,
      "outputs": []
    },
    {
      "cell_type": "code",
      "source": [
        "import spotipy\n",
        "from spotipy.oauth2 import SpotifyClientCredentials #Getting access to the project in the API\n",
        "client_credentials_manager = SpotifyClientCredentials(client_id=CLIENT_ID, client_secret=CLIENT_SECRET)\n",
        "sp = spotipy.Spotify(client_credentials_manager=client_credentials_manager)"
      ],
      "metadata": {
        "id": "bRZ_OYM0f7GH"
      },
      "execution_count": 3,
      "outputs": []
    },
    {
      "cell_type": "code",
      "source": [
        "artist_name = []\n",
        "track_name = []\n",
        "track_popularity = []\n",
        "artist_id = []\n",
        "track_id = []\n",
        "for i in range(0,1000,50):\n",
        "    track_results = sp.search(q='year:1999', type='track', limit=50,offset=i)\n",
        "    for i, t in enumerate(track_results['tracks']['items']):\n",
        "        artist_name.append(t['artists'][0]['name'])\n",
        "        artist_id.append(t['artists'][0]['id'])\n",
        "        track_name.append(t['name'])\n",
        "        track_id.append(t['id'])\n",
        "        track_popularity.append(t['popularity'])\n",
        "        "
      ],
      "metadata": {
        "id": "R0PpQOwtg2s0"
      },
      "execution_count": 8,
      "outputs": []
    },
    {
      "cell_type": "code",
      "source": [
        "import pandas as pd\n",
        "#creating the dataframe\n",
        "track_df = pd.DataFrame({'artist_name' : artist_name, 'track_name' : track_name, 'track_id' : track_id, 'track_popularity' : track_popularity, 'artist_id' : artist_id})\n",
        "print(track_df.shape)\n",
        "track_df.head(5)"
      ],
      "metadata": {
        "id": "3LV74h2lhR6e",
        "colab": {
          "base_uri": "https://localhost:8080/",
          "height": 223
        },
        "outputId": "e862b05e-a0ad-4787-df02-49889bd847b3"
      },
      "execution_count": 9,
      "outputs": [
        {
          "output_type": "stream",
          "name": "stdout",
          "text": [
            "(1000, 5)\n"
          ]
        },
        {
          "output_type": "execute_result",
          "data": {
            "text/plain": [
              "             artist_name            track_name                track_id  \\\n",
              "0                Dr. Dre          Still D.R.E.  503OTo2dSqe7qk76rgsbep   \n",
              "1              blink-182  All The Small Things  2m1hi0nfMR9vdGC8UcrnwU   \n",
              "2                    TLC             No Scrubs  1KGi9sZVMeszgZOWivFpxs   \n",
              "3                Dr. Dre      Forgot About Dre  7iXF2W9vKmDoGAhlHdpyIa   \n",
              "4  Red Hot Chili Peppers       Californication  48UPSzbZjgc449aqz8bxox   \n",
              "\n",
              "   track_popularity               artist_id  \n",
              "0                84  6DPYiyq5kWVQS4RGwxzPC7  \n",
              "1                81  6FBDaR13swtiWwGhX1WQsP  \n",
              "2                79  0TImkz4nPqjegtVSMZnMRq  \n",
              "3                79  6DPYiyq5kWVQS4RGwxzPC7  \n",
              "4                82  0L8ExT028jH3ddEcZwqJJ5  "
            ],
            "text/html": [
              "\n",
              "  <div id=\"df-88615467-a14f-41c1-8c76-9e57a8378928\">\n",
              "    <div class=\"colab-df-container\">\n",
              "      <div>\n",
              "<style scoped>\n",
              "    .dataframe tbody tr th:only-of-type {\n",
              "        vertical-align: middle;\n",
              "    }\n",
              "\n",
              "    .dataframe tbody tr th {\n",
              "        vertical-align: top;\n",
              "    }\n",
              "\n",
              "    .dataframe thead th {\n",
              "        text-align: right;\n",
              "    }\n",
              "</style>\n",
              "<table border=\"1\" class=\"dataframe\">\n",
              "  <thead>\n",
              "    <tr style=\"text-align: right;\">\n",
              "      <th></th>\n",
              "      <th>artist_name</th>\n",
              "      <th>track_name</th>\n",
              "      <th>track_id</th>\n",
              "      <th>track_popularity</th>\n",
              "      <th>artist_id</th>\n",
              "    </tr>\n",
              "  </thead>\n",
              "  <tbody>\n",
              "    <tr>\n",
              "      <th>0</th>\n",
              "      <td>Dr. Dre</td>\n",
              "      <td>Still D.R.E.</td>\n",
              "      <td>503OTo2dSqe7qk76rgsbep</td>\n",
              "      <td>84</td>\n",
              "      <td>6DPYiyq5kWVQS4RGwxzPC7</td>\n",
              "    </tr>\n",
              "    <tr>\n",
              "      <th>1</th>\n",
              "      <td>blink-182</td>\n",
              "      <td>All The Small Things</td>\n",
              "      <td>2m1hi0nfMR9vdGC8UcrnwU</td>\n",
              "      <td>81</td>\n",
              "      <td>6FBDaR13swtiWwGhX1WQsP</td>\n",
              "    </tr>\n",
              "    <tr>\n",
              "      <th>2</th>\n",
              "      <td>TLC</td>\n",
              "      <td>No Scrubs</td>\n",
              "      <td>1KGi9sZVMeszgZOWivFpxs</td>\n",
              "      <td>79</td>\n",
              "      <td>0TImkz4nPqjegtVSMZnMRq</td>\n",
              "    </tr>\n",
              "    <tr>\n",
              "      <th>3</th>\n",
              "      <td>Dr. Dre</td>\n",
              "      <td>Forgot About Dre</td>\n",
              "      <td>7iXF2W9vKmDoGAhlHdpyIa</td>\n",
              "      <td>79</td>\n",
              "      <td>6DPYiyq5kWVQS4RGwxzPC7</td>\n",
              "    </tr>\n",
              "    <tr>\n",
              "      <th>4</th>\n",
              "      <td>Red Hot Chili Peppers</td>\n",
              "      <td>Californication</td>\n",
              "      <td>48UPSzbZjgc449aqz8bxox</td>\n",
              "      <td>82</td>\n",
              "      <td>0L8ExT028jH3ddEcZwqJJ5</td>\n",
              "    </tr>\n",
              "  </tbody>\n",
              "</table>\n",
              "</div>\n",
              "      <button class=\"colab-df-convert\" onclick=\"convertToInteractive('df-88615467-a14f-41c1-8c76-9e57a8378928')\"\n",
              "              title=\"Convert this dataframe to an interactive table.\"\n",
              "              style=\"display:none;\">\n",
              "        \n",
              "  <svg xmlns=\"http://www.w3.org/2000/svg\" height=\"24px\"viewBox=\"0 0 24 24\"\n",
              "       width=\"24px\">\n",
              "    <path d=\"M0 0h24v24H0V0z\" fill=\"none\"/>\n",
              "    <path d=\"M18.56 5.44l.94 2.06.94-2.06 2.06-.94-2.06-.94-.94-2.06-.94 2.06-2.06.94zm-11 1L8.5 8.5l.94-2.06 2.06-.94-2.06-.94L8.5 2.5l-.94 2.06-2.06.94zm10 10l.94 2.06.94-2.06 2.06-.94-2.06-.94-.94-2.06-.94 2.06-2.06.94z\"/><path d=\"M17.41 7.96l-1.37-1.37c-.4-.4-.92-.59-1.43-.59-.52 0-1.04.2-1.43.59L10.3 9.45l-7.72 7.72c-.78.78-.78 2.05 0 2.83L4 21.41c.39.39.9.59 1.41.59.51 0 1.02-.2 1.41-.59l7.78-7.78 2.81-2.81c.8-.78.8-2.07 0-2.86zM5.41 20L4 18.59l7.72-7.72 1.47 1.35L5.41 20z\"/>\n",
              "  </svg>\n",
              "      </button>\n",
              "      \n",
              "  <style>\n",
              "    .colab-df-container {\n",
              "      display:flex;\n",
              "      flex-wrap:wrap;\n",
              "      gap: 12px;\n",
              "    }\n",
              "\n",
              "    .colab-df-convert {\n",
              "      background-color: #E8F0FE;\n",
              "      border: none;\n",
              "      border-radius: 50%;\n",
              "      cursor: pointer;\n",
              "      display: none;\n",
              "      fill: #1967D2;\n",
              "      height: 32px;\n",
              "      padding: 0 0 0 0;\n",
              "      width: 32px;\n",
              "    }\n",
              "\n",
              "    .colab-df-convert:hover {\n",
              "      background-color: #E2EBFA;\n",
              "      box-shadow: 0px 1px 2px rgba(60, 64, 67, 0.3), 0px 1px 3px 1px rgba(60, 64, 67, 0.15);\n",
              "      fill: #174EA6;\n",
              "    }\n",
              "\n",
              "    [theme=dark] .colab-df-convert {\n",
              "      background-color: #3B4455;\n",
              "      fill: #D2E3FC;\n",
              "    }\n",
              "\n",
              "    [theme=dark] .colab-df-convert:hover {\n",
              "      background-color: #434B5C;\n",
              "      box-shadow: 0px 1px 3px 1px rgba(0, 0, 0, 0.15);\n",
              "      filter: drop-shadow(0px 1px 2px rgba(0, 0, 0, 0.3));\n",
              "      fill: #FFFFFF;\n",
              "    }\n",
              "  </style>\n",
              "\n",
              "      <script>\n",
              "        const buttonEl =\n",
              "          document.querySelector('#df-88615467-a14f-41c1-8c76-9e57a8378928 button.colab-df-convert');\n",
              "        buttonEl.style.display =\n",
              "          google.colab.kernel.accessAllowed ? 'block' : 'none';\n",
              "\n",
              "        async function convertToInteractive(key) {\n",
              "          const element = document.querySelector('#df-88615467-a14f-41c1-8c76-9e57a8378928');\n",
              "          const dataTable =\n",
              "            await google.colab.kernel.invokeFunction('convertToInteractive',\n",
              "                                                     [key], {});\n",
              "          if (!dataTable) return;\n",
              "\n",
              "          const docLinkHtml = 'Like what you see? Visit the ' +\n",
              "            '<a target=\"_blank\" href=https://colab.research.google.com/notebooks/data_table.ipynb>data table notebook</a>'\n",
              "            + ' to learn more about interactive tables.';\n",
              "          element.innerHTML = '';\n",
              "          dataTable['output_type'] = 'display_data';\n",
              "          await google.colab.output.renderOutput(dataTable, element);\n",
              "          const docLink = document.createElement('div');\n",
              "          docLink.innerHTML = docLinkHtml;\n",
              "          element.appendChild(docLink);\n",
              "        }\n",
              "      </script>\n",
              "    </div>\n",
              "  </div>\n",
              "  "
            ]
          },
          "metadata": {},
          "execution_count": 9
        }
      ]
    },
    {
      "cell_type": "code",
      "source": [
        "artist_popularity = []\n",
        "artist_genres = []\n",
        "artist_followers = []\n",
        "for a_id in track_df.artist_id:\n",
        "  artist = sp.artist(a_id)\n",
        "  artist_popularity.append(artist['popularity'])\n",
        "  artist_genres.append(artist['genres'])\n",
        "  artist_followers.append(artist['followers']['total'])"
      ],
      "metadata": {
        "id": "SEg1SEe289KZ"
      },
      "execution_count": 10,
      "outputs": []
    },
    {
      "cell_type": "code",
      "source": [
        "track_df = track_df.assign(artist_popularity=artist_popularity, artist_genres=artist_genres, artist_followers=artist_followers)\n",
        "track_df.head()"
      ],
      "metadata": {
        "id": "FQnGqjSCrxCO"
      },
      "execution_count": null,
      "outputs": []
    },
    {
      "cell_type": "code",
      "source": [
        "track_features = []\n",
        "for t_id in track_df['track_id']:\n",
        "  af = sp.audio_features(t_id)\n",
        "  track_features.append(af)\n",
        "tf_df = pd.DataFrame(columns = ['danceability', 'energy', 'key', 'loudness', 'mode', 'speechiness', 'acousticness', 'instrumentalness', 'liveness', 'valence', 'tempo', 'type', 'id', 'uri', 'track_href', 'analysis_url', 'duration_ms', 'time_signature'])\n",
        "for item in track_features:\n",
        "  for feat in item:\n",
        "    tf_df = tf_df.append(feat, ignore_index=True)\n",
        "tf_df.head()"
      ],
      "metadata": {
        "id": "7a9SRbaN3Swx"
      },
      "execution_count": null,
      "outputs": []
    },
    {
      "cell_type": "code",
      "source": [
        "cols_to_drop2 = ['key','mode','type', 'uri','track_href','analysis_url']\n",
        "tf_df = tf_df.drop(columns=cols_to_drop2)\n",
        "print(track_df.info())\n",
        "print(tf_df.info())"
      ],
      "metadata": {
        "id": "oaHt46OC3TIA"
      },
      "execution_count": null,
      "outputs": []
    },
    {
      "cell_type": "code",
      "source": [
        "track_df['artist_name'] = track_df['artist_name'].astype(\"string\")\n",
        "track_df['track_name'] = track_df['track_name'].astype(\"string\")\n",
        "track_df['track_id'] = track_df['track_id'].astype(\"string\")\n",
        "track_df['artist_id'] = track_df['artist_id'].astype(\"string\")\n",
        "tf_df['duration_ms'] = pd.to_numeric(tf_df['duration_ms'])\n",
        "tf_df['instrumentalness'] = pd.to_numeric(tf_df['instrumentalness'])\n",
        "tf_df['time_signature'] = tf_df['time_signature'].astype(\"category\")\n",
        "print(track_df.info())\n",
        "print(tf_df.info())"
      ],
      "metadata": {
        "id": "vkAafB-y4rCw"
      },
      "execution_count": null,
      "outputs": []
    },
    {
      "cell_type": "code",
      "source": [
        "track_df.sort_values(by=['track_popularity'], ascending=False)[['track_name', 'artist_name']].head(20)"
      ],
      "metadata": {
        "id": "ujUHcOnX46hj"
      },
      "execution_count": null,
      "outputs": []
    },
    {
      "cell_type": "code",
      "source": [
        "by_art_fol = pd.DataFrame(track_df.sort_values(by=['artist_followers'], ascending=False)[['artist_followers','artist_popularity', 'artist_name','artist_genres']])\n",
        "by_art_fol.astype(str).drop_duplicates().head(20)"
      ],
      "metadata": {
        "id": "jqMpmnFK7K3V"
      },
      "execution_count": null,
      "outputs": []
    },
    {
      "cell_type": "code",
      "source": [
        "def to_1D(series):\n",
        " return pd.Series([x for _list in series for x in _list])\n",
        "to_1D(track_df['artist_genres']).value_counts().head(20)"
      ],
      "metadata": {
        "id": "GxbnoFtN0MXu"
      },
      "execution_count": null,
      "outputs": []
    },
    {
      "cell_type": "code",
      "source": [
        "import matplotlib.pyplot as plt\n",
        "fig, ax = plt.subplots(figsize = (30,5))\n",
        "ax.bar(to_1D(track_df['artist_genres']).value_counts().index[:20],\n",
        "        to_1D(track_df['artist_genres']).value_counts().values[:20])\n",
        "ax.set_ylabel(\"Frequency\", size = 14)\n",
        "ax.set_title(\"Top genres\", size = 14)"
      ],
      "metadata": {
        "colab": {
          "base_uri": "https://localhost:8080/",
          "height": 290
        },
        "id": "CGLwE1Om0PGS",
        "outputId": "9acd46c3-a4fc-4cef-a9b8-59b102fd54d9"
      },
      "execution_count": 18,
      "outputs": [
        {
          "output_type": "execute_result",
          "data": {
            "text/plain": [
              "Text(0.5, 1.0, 'Top genres')"
            ]
          },
          "metadata": {},
          "execution_count": 18
        },
        {
          "output_type": "display_data",
          "data": {
            "text/plain": [
              "<Figure size 2160x360 with 1 Axes>"
            ],
            "image/png": "[encoded data removed]"
          },
          "metadata": {
            "needs_background": "light"
          }
        }
      ]
    },
    {
      "cell_type": "code",
      "source": [
        "top_10_genres = list(to_1D(track_df['artist_genres']).value_counts().index[:20])\n",
        "top_artists_by_genre = []\n",
        "for genre in top_10_genres:\n",
        "  for index, row in by_art_fol.iterrows():\n",
        "    if genre in row['artist_genres']:\n",
        "      top_artists_by_genre.append({'artist_name':row['artist_name'], 'artist_genre':genre})\n",
        "      break\n",
        "pd.json_normalize(top_artists_by_genre)"
      ],
      "metadata": {
        "id": "qB4smTvg0REA"
      },
      "execution_count": null,
      "outputs": []
    },
    {
      "cell_type": "code",
      "source": [
        "top_10_genres = list(to_1D(track_df['artist_genres']).value_counts().index[:20])\n",
        "top_artists_by_genre = []\n",
        "for genre in top_10_genres:\n",
        "  for index, row in by_art_fol.iterrows():\n",
        "    if genre in row['artist_genres']:\n",
        "      top_artists_by_genre.append({'artist_name':row['artist_name'], 'artist_genre':genre})\n",
        "      break\n",
        "pd.json_normalize(top_artists_by_genre)"
      ],
      "metadata": {
        "id": "B4krpZWy0TZH"
      },
      "execution_count": null,
      "outputs": []
    },
    {
      "cell_type": "code",
      "source": [
        "import seaborn as sn\n",
        "sn.set(rc = {'figure.figsize':(12,10)})\n",
        "sn.heatmap(tf_df.corr(), annot=True)\n",
        "plt.show()"
      ],
      "metadata": {
        "id": "mD9G8aME0XBF"
      },
      "execution_count": null,
      "outputs": []
    },
    {
      "cell_type": "code",
      "source": [
        "sn.set(rc = {'figure.figsize':(20,20)})\n",
        "sn.jointplot(data=tf_df, x=\"loudness\", y=\"energy\", kind=\"kde\")"
      ],
      "metadata": {
        "colab": {
          "base_uri": "https://localhost:8080/",
          "height": 454
        },
        "id": "quQFiXkD0Zi1",
        "outputId": "69eec383-42cb-4474-b7cd-36c643b8f65b"
      },
      "execution_count": 22,
      "outputs": [
        {
          "output_type": "execute_result",
          "data": {
            "text/plain": [
              "<seaborn.axisgrid.JointGrid at 0x7f7867c22490>"
            ]
          },
          "metadata": {},
          "execution_count": 22
        },
        {
          "output_type": "display_data",
          "data": {
            "text/plain": [
              "<Figure size 432x432 with 3 Axes>"
            ],
            "image/png": "[encoded data removed]"
          },
          "metadata": {}
        }
      ]
    },
    {
      "cell_type": "code",
      "source": [
        "feat_cols = ['danceability', 'energy', 'speechiness', 'acousticness', 'instrumentalness', 'liveness', 'valence']\n",
        "top_100_feat = pd.DataFrame(columns=feat_cols)\n",
        "by_track_pop= pd.DataFrame()\n",
        "for i, track in by_track_pop[:100].iterrows():\n",
        "  features = tf_df[tf_df['id'] == track['track_id']]\n",
        "  top_100_feat = top_100_feat.append(features, ignore_index=True)\n",
        "top_100_feat = top_100_feat[feat_cols]\n",
        "\n",
        "from sklearn import preprocessing\n",
        "mean_vals = pd.DataFrame(columns=feat_cols)\n",
        "mean_vals = mean_vals.append(top_100_feat.mean(), ignore_index=True)\n",
        "mean_vals = mean_vals.append(tf_df[feat_cols].mean(), ignore_index=True)\n",
        "print(mean_vals)\n",
        "\n",
        "import plotly.graph_objects as go\n",
        "import plotly.offline as pyo\n",
        "fig = go.Figure(\n",
        "    data=[\n",
        "        go.Scatterpolar(r=mean_vals.iloc[0], theta=feat_cols, fill='toself', name='Top 100'),\n",
        "        go.Scatterpolar(r=mean_vals.iloc[1], theta=feat_cols, fill='toself', name='All'),\n",
        "    ],\n",
        "    layout=go.Layout(\n",
        "        title=go.layout.Title(text='Feature comparison'),\n",
        "        polar={'radialaxis': {'visible': True}},\n",
        "        showlegend=True\n",
        "    )\n",
        ")\n",
        "\n",
        "pyo.plot(fig)\n",
        "fig.show()"
      ],
      "metadata": {
        "colab": {
          "base_uri": "https://localhost:8080/",
          "height": 663
        },
        "id": "WORw-4_F07Eg",
        "outputId": "225b2de8-d2c5-469f-edce-9a97690e8ca8"
      },
      "execution_count": 23,
      "outputs": [
        {
          "output_type": "stream",
          "name": "stdout",
          "text": [
            "   danceability   energy  speechiness  acousticness  instrumentalness  \\\n",
            "0           NaN      NaN          NaN           NaN               NaN   \n",
            "1      0.612158  0.67538     0.098983      0.225227          0.059721   \n",
            "\n",
            "   liveness   valence  \n",
            "0       NaN       NaN  \n",
            "1  0.193152  0.602002  \n"
          ]
        },
        {
          "output_type": "display_data",
          "data": {
            "text/html": [
              "<html>\n",
              "<head><meta charset=\"utf-8\" /></head>\n",
              "<body>\n",
              "    <div>            <script src=\"https://cdnjs.cloudflare.com/ajax/libs/mathjax/2.7.5/MathJax.js?config=TeX-AMS-MML_SVG\"></script><script type=\"text/javascript\">if (window.MathJax) {MathJax.Hub.Config({SVG: {font: \"STIX-Web\"}});}</script>                <script type=\"text/javascript\">window.PlotlyConfig = {MathJaxConfig: 'local'};</script>\n",
              "        <script src=\"https://cdn.plot.ly/plotly-2.8.3.min.js\"></script>                <div id=\"d5c31d33-848b-4dea-9771-60422a765c9b\" class=\"plotly-graph-div\" style=\"height:525px; width:100%;\"></div>            <script type=\"text/javascript\">                                    window.PLOTLYENV=window.PLOTLYENV || {};                                    if (document.getElementById(\"d5c31d33-848b-4dea-9771-60422a765c9b\")) {                    Plotly.newPlot(                        \"d5c31d33-848b-4dea-9771-60422a765c9b\",                        [{\"fill\":\"toself\",\"name\":\"Top 100\",\"r\":[null,null,null,null,null,null,null],\"theta\":[\"danceability\",\"energy\",\"speechiness\",\"acousticness\",\"instrumentalness\",\"liveness\",\"valence\"],\"type\":\"scatterpolar\"},{\"fill\":\"toself\",\"name\":\"All\",\"r\":[0.6121577,0.6753798300000001,0.0989831,0.2252266708,0.059720634909999994,0.1931517,0.6020017599999999],\"theta\":[\"danceability\",\"energy\",\"speechiness\",\"acousticness\",\"instrumentalness\",\"liveness\",\"valence\"],\"type\":\"scatterpolar\"}],                        {\"polar\":{\"radialaxis\":{\"visible\":true}},\"showlegend\":true,\"title\":{\"text\":\"Feature comparison\"},\"template\":{\"data\":{\"bar\":[{\"error_x\":{\"color\":\"#2a3f5f\"},\"error_y\":{\"color\":\"#2a3f5f\"},\"marker\":{\"line\":{\"color\":\"#E5ECF6\",\"width\":0.5},\"pattern\":{\"fillmode\":\"overlay\",\"size\":10,\"solidity\":0.2}},\"type\":\"bar\"}],\"barpolar\":[{\"marker\":{\"line\":{\"color\":\"#E5ECF6\",\"width\":0.5},\"pattern\":{\"fillmode\":\"overlay\",\"size\":10,\"solidity\":0.2}},\"type\":\"barpolar\"}],\"carpet\":[{\"aaxis\":{\"endlinecolor\":\"#2a3f5f\",\"gridcolor\":\"white\",\"linecolor\":\"white\",\"minorgridcolor\":\"white\",\"startlinecolor\":\"#2a3f5f\"},\"baxis\":{\"endlinecolor\":\"#2a3f5f\",\"gridcolor\":\"white\",\"linecolor\":\"white\",\"minorgridcolor\":\"white\",\"startlinecolor\":\"#2a3f5f\"},\"type\":\"carpet\"}],\"choropleth\":[{\"colorbar\":{\"outlinewidth\":0,\"ticks\":\"\"},\"type\":\"choropleth\"}],\"contour\":[{\"colorbar\":{\"outlinewidth\":0,\"ticks\":\"\"},\"colorscale\":[[0.0,\"#0d0887\"],[0.1111111111111111,\"#46039f\"],[0.2222222222222222,\"#7201a8\"],[0.3333333333333333,\"#9c179e\"],[0.4444444444444444,\"#bd3786\"],[0.5555555555555556,\"#d8576b\"],[0.6666666666666666,\"#ed7953\"],[0.7777777777777778,\"#fb9f3a\"],[0.8888888888888888,\"#fdca26\"],[1.0,\"#f0f921\"]],\"type\":\"contour\"}],\"contourcarpet\":[{\"colorbar\":{\"outlinewidth\":0,\"ticks\":\"\"},\"type\":\"contourcarpet\"}],\"heatmap\":[{\"colorbar\":{\"outlinewidth\":0,\"ticks\":\"\"},\"colorscale\":[[0.0,\"#0d0887\"],[0.1111111111111111,\"#46039f\"],[0.2222222222222222,\"#7201a8\"],[0.3333333333333333,\"#9c179e\"],[0.4444444444444444,\"#bd3786\"],[0.5555555555555556,\"#d8576b\"],[0.6666666666666666,\"#ed7953\"],[0.7777777777777778,\"#fb9f3a\"],[0.8888888888888888,\"#fdca26\"],[1.0,\"#f0f921\"]],\"type\":\"heatmap\"}],\"heatmapgl\":[{\"colorbar\":{\"outlinewidth\":0,\"ticks\":\"\"},\"colorscale\":[[0.0,\"#0d0887\"],[0.1111111111111111,\"#46039f\"],[0.2222222222222222,\"#7201a8\"],[0.3333333333333333,\"#9c179e\"],[0.4444444444444444,\"#bd3786\"],[0.5555555555555556,\"#d8576b\"],[0.6666666666666666,\"#ed7953\"],[0.7777777777777778,\"#fb9f3a\"],[0.8888888888888888,\"#fdca26\"],[1.0,\"#f0f921\"]],\"type\":\"heatmapgl\"}],\"histogram\":[{\"marker\":{\"pattern\":{\"fillmode\":\"overlay\",\"size\":10,\"solidity\":0.2}},\"type\":\"histogram\"}],\"histogram2d\":[{\"colorbar\":{\"outlinewidth\":0,\"ticks\":\"\"},\"colorscale\":[[0.0,\"#0d0887\"],[0.1111111111111111,\"#46039f\"],[0.2222222222222222,\"#7201a8\"],[0.3333333333333333,\"#9c179e\"],[0.4444444444444444,\"#bd3786\"],[0.5555555555555556,\"#d8576b\"],[0.6666666666666666,\"#ed7953\"],[0.7777777777777778,\"#fb9f3a\"],[0.8888888888888888,\"#fdca26\"],[1.0,\"#f0f921\"]],\"type\":\"histogram2d\"}],\"histogram2dcontour\":[{\"colorbar\":{\"outlinewidth\":0,\"ticks\":\"\"},\"colorscale\":[[0.0,\"#0d0887\"],[0.1111111111111111,\"#46039f\"],[0.2222222222222222,\"#7201a8\"],[0.3333333333333333,\"#9c179e\"],[0.4444444444444444,\"#bd3786\"],[0.5555555555555556,\"#d8576b\"],[0.6666666666666666,\"#ed7953\"],[0.7777777777777778,\"#fb9f3a\"],[0.8888888888888888,\"#fdca26\"],[1.0,\"#f0f921\"]],\"type\":\"histogram2dcontour\"}],\"mesh3d\":[{\"colorbar\":{\"outlinewidth\":0,\"ticks\":\"\"},\"type\":\"mesh3d\"}],\"parcoords\":[{\"line\":{\"colorbar\":{\"outlinewidth\":0,\"ticks\":\"\"}},\"type\":\"parcoords\"}],\"pie\":[{\"automargin\":true,\"type\":\"pie\"}],\"scatter\":[{\"marker\":{\"colorbar\":{\"outlinewidth\":0,\"ticks\":\"\"}},\"type\":\"scatter\"}],\"scatter3d\":[{\"line\":{\"colorbar\":{\"outlinewidth\":0,\"ticks\":\"\"}},\"marker\":{\"colorbar\":{\"outlinewidth\":0,\"ticks\":\"\"}},\"type\":\"scatter3d\"}],\"scattercarpet\":[{\"marker\":{\"colorbar\":{\"outlinewidth\":0,\"ticks\":\"\"}},\"type\":\"scattercarpet\"}],\"scattergeo\":[{\"marker\":{\"colorbar\":{\"outlinewidth\":0,\"ticks\":\"\"}},\"type\":\"scattergeo\"}],\"scattergl\":[{\"marker\":{\"colorbar\":{\"outlinewidth\":0,\"ticks\":\"\"}},\"type\":\"scattergl\"}],\"scattermapbox\":[{\"marker\":{\"colorbar\":{\"outlinewidth\":0,\"ticks\":\"\"}},\"type\":\"scattermapbox\"}],\"scatterpolar\":[{\"marker\":{\"colorbar\":{\"outlinewidth\":0,\"ticks\":\"\"}},\"type\":\"scatterpolar\"}],\"scatterpolargl\":[{\"marker\":{\"colorbar\":{\"outlinewidth\":0,\"ticks\":\"\"}},\"type\":\"scatterpolargl\"}],\"scatterternary\":[{\"marker\":{\"colorbar\":{\"outlinewidth\":0,\"ticks\":\"\"}},\"type\":\"scatterternary\"}],\"surface\":[{\"colorbar\":{\"outlinewidth\":0,\"ticks\":\"\"},\"colorscale\":[[0.0,\"#0d0887\"],[0.1111111111111111,\"#46039f\"],[0.2222222222222222,\"#7201a8\"],[0.3333333333333333,\"#9c179e\"],[0.4444444444444444,\"#bd3786\"],[0.5555555555555556,\"#d8576b\"],[0.6666666666666666,\"#ed7953\"],[0.7777777777777778,\"#fb9f3a\"],[0.8888888888888888,\"#fdca26\"],[1.0,\"#f0f921\"]],\"type\":\"surface\"}],\"table\":[{\"cells\":{\"fill\":{\"color\":\"#EBF0F8\"},\"line\":{\"color\":\"white\"}},\"header\":{\"fill\":{\"color\":\"#C8D4E3\"},\"line\":{\"color\":\"white\"}},\"type\":\"table\"}]},\"layout\":{\"annotationdefaults\":{\"arrowcolor\":\"#2a3f5f\",\"arrowhead\":0,\"arrowwidth\":1},\"autotypenumbers\":\"strict\",\"coloraxis\":{\"colorbar\":{\"outlinewidth\":0,\"ticks\":\"\"}},\"colorscale\":{\"diverging\":[[0,\"#8e0152\"],[0.1,\"#c51b7d\"],[0.2,\"#de77ae\"],[0.3,\"#f1b6da\"],[0.4,\"#fde0ef\"],[0.5,\"#f7f7f7\"],[0.6,\"#e6f5d0\"],[0.7,\"#b8e186\"],[0.8,\"#7fbc41\"],[0.9,\"#4d9221\"],[1,\"#276419\"]],\"sequential\":[[0.0,\"#0d0887\"],[0.1111111111111111,\"#46039f\"],[0.2222222222222222,\"#7201a8\"],[0.3333333333333333,\"#9c179e\"],[0.4444444444444444,\"#bd3786\"],[0.5555555555555556,\"#d8576b\"],[0.6666666666666666,\"#ed7953\"],[0.7777777777777778,\"#fb9f3a\"],[0.8888888888888888,\"#fdca26\"],[1.0,\"#f0f921\"]],\"sequentialminus\":[[0.0,\"#0d0887\"],[0.1111111111111111,\"#46039f\"],[0.2222222222222222,\"#7201a8\"],[0.3333333333333333,\"#9c179e\"],[0.4444444444444444,\"#bd3786\"],[0.5555555555555556,\"#d8576b\"],[0.6666666666666666,\"#ed7953\"],[0.7777777777777778,\"#fb9f3a\"],[0.8888888888888888,\"#fdca26\"],[1.0,\"#f0f921\"]]},\"colorway\":[\"#636efa\",\"#EF553B\",\"#00cc96\",\"#ab63fa\",\"#FFA15A\",\"#19d3f3\",\"#FF6692\",\"#B6E880\",\"#FF97FF\",\"#FECB52\"],\"font\":{\"color\":\"#2a3f5f\"},\"geo\":{\"bgcolor\":\"white\",\"lakecolor\":\"white\",\"landcolor\":\"#E5ECF6\",\"showlakes\":true,\"showland\":true,\"subunitcolor\":\"white\"},\"hoverlabel\":{\"align\":\"left\"},\"hovermode\":\"closest\",\"mapbox\":{\"style\":\"light\"},\"paper_bgcolor\":\"white\",\"plot_bgcolor\":\"#E5ECF6\",\"polar\":{\"angularaxis\":{\"gridcolor\":\"white\",\"linecolor\":\"white\",\"ticks\":\"\"},\"bgcolor\":\"#E5ECF6\",\"radialaxis\":{\"gridcolor\":\"white\",\"linecolor\":\"white\",\"ticks\":\"\"}},\"scene\":{\"xaxis\":{\"backgroundcolor\":\"#E5ECF6\",\"gridcolor\":\"white\",\"gridwidth\":2,\"linecolor\":\"white\",\"showbackground\":true,\"ticks\":\"\",\"zerolinecolor\":\"white\"},\"yaxis\":{\"backgroundcolor\":\"#E5ECF6\",\"gridcolor\":\"white\",\"gridwidth\":2,\"linecolor\":\"white\",\"showbackground\":true,\"ticks\":\"\",\"zerolinecolor\":\"white\"},\"zaxis\":{\"backgroundcolor\":\"#E5ECF6\",\"gridcolor\":\"white\",\"gridwidth\":2,\"linecolor\":\"white\",\"showbackground\":true,\"ticks\":\"\",\"zerolinecolor\":\"white\"}},\"shapedefaults\":{\"line\":{\"color\":\"#2a3f5f\"}},\"ternary\":{\"aaxis\":{\"gridcolor\":\"white\",\"linecolor\":\"white\",\"ticks\":\"\"},\"baxis\":{\"gridcolor\":\"white\",\"linecolor\":\"white\",\"ticks\":\"\"},\"bgcolor\":\"#E5ECF6\",\"caxis\":{\"gridcolor\":\"white\",\"linecolor\":\"white\",\"ticks\":\"\"}},\"title\":{\"x\":0.05},\"xaxis\":{\"automargin\":true,\"gridcolor\":\"white\",\"linecolor\":\"white\",\"ticks\":\"\",\"title\":{\"standoff\":15},\"zerolinecolor\":\"white\",\"zerolinewidth\":2},\"yaxis\":{\"automargin\":true,\"gridcolor\":\"white\",\"linecolor\":\"white\",\"ticks\":\"\",\"title\":{\"standoff\":15},\"zerolinecolor\":\"white\",\"zerolinewidth\":2}}}},                        {\"responsive\": true}                    ).then(function(){\n",
              "                            \n",
              "var gd = document.getElementById('d5c31d33-848b-4dea-9771-60422a765c9b');\n",
              "var x = new MutationObserver(function (mutations, observer) {{\n",
              "        var display = window.getComputedStyle(gd).display;\n",
              "        if (!display || display === 'none') {{\n",
              "            console.log([gd, 'removed!']);\n",
              "            Plotly.purge(gd);\n",
              "            observer.disconnect();\n",
              "        }}\n",
              "}});\n",
              "\n",
              "// Listen for the removal of the full notebook cells\n",
              "var notebookContainer = gd.closest('#notebook-container');\n",
              "if (notebookContainer) {{\n",
              "    x.observe(notebookContainer, {childList: true});\n",
              "}}\n",
              "\n",
              "// Listen for the clearing of the current output cell\n",
              "var outputEl = gd.closest('.output');\n",
              "if (outputEl) {{\n",
              "    x.observe(outputEl, {childList: true});\n",
              "}}\n",
              "\n",
              "                        })                };                            </script>        </div>\n",
              "</body>\n",
              "</html>"
            ]
          },
          "metadata": {}
        }
      ]
    },
    {
      "cell_type": "code",
      "source": [
        "rec = sp.recommendations(seed_artists=[\"3PhoLpVuITZKcymswpck5b\"], seed_genres=[\"pop\"], seed_tracks=[\"1r9xUipOqoNwggBpENDsvJ\"], limit=10)\n",
        "for track in rec['tracks']:\n",
        "  print(track['artists'][0]['name'], track['name'])"
      ],
      "metadata": {
        "colab": {
          "base_uri": "https://localhost:8080/"
        },
        "id": "hNEZ-VNK1S5H",
        "outputId": "372fd11b-00f1-4bf6-bb40-5f6a41f9e5e7"
      },
      "execution_count": 27,
      "outputs": [
        {
          "output_type": "stream",
          "name": "stdout",
          "text": [
            "half•alive creature\n",
            "Rihanna Work\n",
            "grandson Darkside\n",
            "Charli XCX 1999\n",
            "Little Mix Secret Love Song (feat. Jason Derulo)\n",
            "Neil Diamond Forever In Blue Jeans\n",
            "Milky Chance Colorado\n",
            "Lost Frequencies Are You With Me - Radio Edit\n",
            "Supertramp Goodbye Stranger - 2010 Remastered\n",
            "The Score Enemies\n"
          ]
        }
      ]
    },
    {
      "cell_type": "markdown",
      "source": [
        ""
      ],
      "metadata": {
        "id": "3VOXlQxVhRtz"
      }
    }
  ]
}